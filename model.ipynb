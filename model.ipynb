{
 "cells": [
  {
   "cell_type": "markdown",
   "metadata": {},
   "source": [
    "# Import modules"
   ]
  },
  {
   "cell_type": "code",
   "execution_count": 1,
   "metadata": {},
   "outputs": [],
   "source": [
    "import numpy as np\n",
    "import torch\n",
    "import torch.nn as nn\n",
    "import torch.nn.functional as F\n",
    "from sklearn.model_selection import train_test_split\n",
    "from sklearn.preprocessing import MinMaxScaler\n",
    "from torch.utils.data import Dataset, DataLoader\n",
    "import matplotlib.pyplot as plt\n",
    "import time\n",
    "from sklearn.metrics import classification_report, confusion_matrix, ConfusionMatrixDisplay"
   ]
  },
  {
   "cell_type": "code",
   "execution_count": 2,
   "metadata": {},
   "outputs": [
    {
     "name": "stdout",
     "output_type": "stream",
     "text": [
      "Train: (900, 416), Val: (300, 416), Test: (300, 416)\n"
     ]
    }
   ],
   "source": [
    "# ========== STEP 1: Load and Preprocess Data ==========\n",
    "\n",
    "def preprocess_csi_for_1dcnn(data):\n",
    "    X = []\n",
    "    for i in range(data.shape[2]):\n",
    "        sample = np.abs(data[:, :, i])\n",
    "        norm = sample / (sample[0:1, :] + 1e-8)\n",
    "        flat = norm.T.flatten()\n",
    "        X.append(flat)\n",
    "    return np.array(X)\n",
    "\n",
    "presence = np.load('dataset_SDR/dataPresence.npy')\n",
    "no_presence = np.load('dataset_SDR/NoPresence.npy')\n",
    "small_presence = np.load('dataset_SDR/dataSmallPresence.npy')\n",
    "\n",
    "X_presence = preprocess_csi_for_1dcnn(presence)\n",
    "X_no_presence = preprocess_csi_for_1dcnn(no_presence)\n",
    "X_small_presence = preprocess_csi_for_1dcnn(small_presence)\n",
    "\n",
    "# Labels: 0 - presence, 1 - no presence, 2 - small presence\n",
    "y_presence = np.full((X_presence.shape[0],), 0)\n",
    "y_no_presence = np.full((X_no_presence.shape[0],), 1)\n",
    "y_small_presence = np.full((X_small_presence.shape[0],), 2)\n",
    "\n",
    "X = np.vstack([X_presence, X_no_presence, X_small_presence])\n",
    "y = np.concatenate([y_presence, y_no_presence, y_small_presence])\n",
    "\n",
    "scaler = MinMaxScaler()\n",
    "X = scaler.fit_transform(X)\n",
    "\n",
    "# Split 70% train, 15% val, 15% test\n",
    "X_train_val, X_test, y_train_val, y_test = train_test_split(X, y, test_size=0.20, stratify=y, random_state=42)\n",
    "X_train, X_val, y_train, y_val = train_test_split(X_train_val, y_train_val, test_size=0.25, stratify=y_train_val, random_state=42)\n",
    "# Note: 0.1765 of 85% ≈ 15%\n",
    "\n",
    "print(f\"Train: {X_train.shape}, Val: {X_val.shape}, Test: {X_test.shape}\")"
   ]
  },
  {
   "cell_type": "code",
   "execution_count": 3,
   "metadata": {},
   "outputs": [],
   "source": [
    "# ========== STEP 2: Dataset & DataLoader ==========\n",
    "\n",
    "class CSIDataset(Dataset):\n",
    "    def __init__(self, X, y):\n",
    "        self.X = torch.tensor(X, dtype=torch.float32).unsqueeze(1)\n",
    "        self.y = torch.tensor(y, dtype=torch.long)\n",
    "\n",
    "    def __len__(self):\n",
    "        return len(self.X)\n",
    "\n",
    "    def __getitem__(self, idx):\n",
    "        return self.X[idx], self.y[idx]\n",
    "\n",
    "train_dataset = CSIDataset(X_train, y_train)\n",
    "val_dataset = CSIDataset(X_val, y_val)\n",
    "test_dataset = CSIDataset(X_test, y_test)\n",
    "\n",
    "train_loader = DataLoader(train_dataset, batch_size=32, shuffle=True)\n",
    "val_loader = DataLoader(val_dataset, batch_size=32)\n",
    "test_loader = DataLoader(test_dataset, batch_size=32)\n"
   ]
  },
  {
   "cell_type": "code",
   "execution_count": 4,
   "metadata": {},
   "outputs": [],
   "source": [
    "# ========== STEP 3: 1D CNN Model ==========\n",
    "\n",
    "class CSI1DCNN(nn.Module):\n",
    "    def __init__(self):\n",
    "        super(CSI1DCNN, self).__init__()\n",
    "        self.conv1 = nn.Conv1d(1, 32, kernel_size=5)\n",
    "        self.pool1 = nn.MaxPool1d(2)\n",
    "        self.dropout = nn.Dropout(0.3)\n",
    "        self.conv2 = nn.Conv1d(32, 64, kernel_size=3)\n",
    "        self.pool2 = nn.MaxPool1d(2)\n",
    "        self.dropout = nn.Dropout(0.3)\n",
    "\n",
    "        dummy_input = torch.zeros(1, 1, 416)\n",
    "        out = self.pool2(self.conv2(self.pool1(self.conv1(dummy_input))))\n",
    "        self.flattened_size = out.view(1, -1).shape[1]\n",
    "\n",
    "        self.fc1 = nn.Linear(self.flattened_size, 64)\n",
    "        self.dropout = nn.Dropout(0.3)\n",
    "        self.fc2 = nn.Linear(64, 3)\n",
    "\n",
    "    def forward(self, x):\n",
    "        x = self.pool1(F.relu(self.conv1(x)))\n",
    "        x = self.pool2(F.relu(self.conv2(x)))\n",
    "        x = x.view(x.size(0), -1)\n",
    "        x = F.relu(self.fc1(x))\n",
    "        x = self.dropout(x)\n",
    "        x = self.fc2(x)\n",
    "        return x"
   ]
  },
  {
   "cell_type": "code",
   "execution_count": 5,
   "metadata": {},
   "outputs": [
    {
     "name": "stdout",
     "output_type": "stream",
     "text": [
      "Using device: cuda\n",
      "Training with validation...\n",
      "\n",
      "Epoch  1 | Train Acc: 0.3467 | Val Acc: 0.3467 | Loss: 36.5675 | Time: 2.50s\n",
      "Epoch  2 | Train Acc: 0.5500 | Val Acc: 0.5600 | Loss: 26.3502 | Time: 0.08s\n",
      "Epoch  3 | Train Acc: 0.8278 | Val Acc: 0.8933 | Loss: 12.3629 | Time: 0.09s\n",
      "Epoch  4 | Train Acc: 0.9200 | Val Acc: 0.9700 | Loss: 6.6407 | Time: 0.08s\n",
      "Epoch  5 | Train Acc: 0.9733 | Val Acc: 0.9733 | Loss: 3.0758 | Time: 0.08s\n",
      "Epoch  6 | Train Acc: 0.9611 | Val Acc: 0.9767 | Loss: 3.4741 | Time: 0.08s\n",
      "Epoch  7 | Train Acc: 0.9644 | Val Acc: 0.9867 | Loss: 2.6651 | Time: 0.09s\n",
      "Epoch  8 | Train Acc: 0.9856 | Val Acc: 0.9733 | Loss: 1.5725 | Time: 0.08s\n",
      "Epoch  9 | Train Acc: 0.9778 | Val Acc: 0.9200 | Loss: 2.2740 | Time: 0.09s\n",
      "Epoch 10 | Train Acc: 0.9556 | Val Acc: 0.9767 | Loss: 5.5282 | Time: 0.08s\n",
      "Epoch 11 | Train Acc: 0.9411 | Val Acc: 0.9467 | Loss: 4.5996 | Time: 0.08s\n",
      "Epoch 12 | Train Acc: 0.9789 | Val Acc: 0.9767 | Loss: 2.1727 | Time: 0.08s\n",
      "Epoch 13 | Train Acc: 0.9778 | Val Acc: 0.9833 | Loss: 1.8904 | Time: 0.08s\n",
      "Epoch 14 | Train Acc: 0.9867 | Val Acc: 0.9900 | Loss: 1.0512 | Time: 0.08s\n",
      "Epoch 15 | Train Acc: 0.9911 | Val Acc: 0.9867 | Loss: 0.8075 | Time: 0.08s\n",
      "Epoch 16 | Train Acc: 0.9900 | Val Acc: 0.9900 | Loss: 1.0399 | Time: 0.08s\n",
      "Epoch 17 | Train Acc: 0.9856 | Val Acc: 0.9833 | Loss: 1.2039 | Time: 0.08s\n",
      "Epoch 18 | Train Acc: 0.9889 | Val Acc: 0.9867 | Loss: 1.1715 | Time: 0.08s\n",
      "Epoch 19 | Train Acc: 0.9900 | Val Acc: 0.9900 | Loss: 0.8582 | Time: 0.08s\n",
      "Epoch 20 | Train Acc: 0.9922 | Val Acc: 0.9833 | Loss: 0.5995 | Time: 0.08s\n",
      "Epoch 21 | Train Acc: 0.9889 | Val Acc: 0.9900 | Loss: 0.9752 | Time: 0.08s\n",
      "Epoch 22 | Train Acc: 0.9856 | Val Acc: 0.9900 | Loss: 1.0125 | Time: 0.08s\n",
      "Epoch 23 | Train Acc: 0.9856 | Val Acc: 0.9900 | Loss: 0.7353 | Time: 0.08s\n",
      "Epoch 24 | Train Acc: 0.9867 | Val Acc: 0.9833 | Loss: 0.8967 | Time: 0.08s\n",
      "Epoch 25 | Train Acc: 0.9900 | Val Acc: 0.9900 | Loss: 0.9364 | Time: 0.08s\n",
      "Epoch 26 | Train Acc: 0.9900 | Val Acc: 0.9900 | Loss: 0.7732 | Time: 0.08s\n",
      "Epoch 27 | Train Acc: 0.9967 | Val Acc: 0.9900 | Loss: 0.5446 | Time: 0.08s\n",
      "Epoch 28 | Train Acc: 0.9911 | Val Acc: 0.9933 | Loss: 0.7733 | Time: 0.08s\n",
      "Epoch 29 | Train Acc: 0.9944 | Val Acc: 0.9933 | Loss: 0.4508 | Time: 0.08s\n",
      "Epoch 30 | Train Acc: 0.9944 | Val Acc: 0.9900 | Loss: 0.7734 | Time: 0.08s\n"
     ]
    }
   ],
   "source": [
    "# ========== STEP 4: Train Loop ==========\n",
    "\n",
    "device = torch.device('cuda' if torch.cuda.is_available() else 'cpu')\n",
    "print(f\"Using device: {device}\")\n",
    "model = CSI1DCNN().to(device)\n",
    "\n",
    "criterion = nn.CrossEntropyLoss()\n",
    "optimizer = torch.optim.Adam(model.parameters(), lr=0.01)\n",
    "\n",
    "train_acc_history = []\n",
    "val_acc_history = []\n",
    "train_loss_history = []\n",
    "val_loss_history = []\n",
    "\n",
    "print(\"Training with validation...\\n\")\n",
    "for epoch in range(30):\n",
    "    start = time.time()\n",
    "    model.train()\n",
    "    train_loss, train_correct, train_total = 0.0, 0, 0\n",
    "\n",
    "    for inputs, labels in train_loader:\n",
    "        inputs, labels = inputs.to(device), labels.to(device)\n",
    "        optimizer.zero_grad()\n",
    "        outputs = model(inputs)\n",
    "        loss = criterion(outputs, labels)\n",
    "        loss.backward()\n",
    "        optimizer.step()\n",
    "\n",
    "        train_loss += loss.item()\n",
    "        _, predicted = torch.max(outputs, 1)\n",
    "        train_correct += (predicted == labels).sum().item()\n",
    "        train_total += labels.size(0)\n",
    "\n",
    "    train_acc = train_correct / train_total\n",
    "    train_acc_history.append(train_acc)\n",
    "    train_loss_history.append(train_loss)\n",
    "\n",
    "    model.eval()\n",
    "    val_loss, val_correct, val_total = 0.0, 0, 0\n",
    "    with torch.no_grad():\n",
    "        for inputs, labels in val_loader:\n",
    "            inputs, labels = inputs.to(device), labels.to(device)\n",
    "            outputs = model(inputs)\n",
    "            loss = criterion(outputs, labels)\n",
    "            val_loss += loss.item()\n",
    "            _, predicted = torch.max(outputs, 1)\n",
    "            val_correct += (predicted == labels).sum().item()\n",
    "            val_total += labels.size(0)\n",
    "\n",
    "    val_acc = val_correct / val_total\n",
    "    val_acc_history.append(val_acc)\n",
    "    val_loss_history.append(val_loss)\n",
    "\n",
    "    print(f\"Epoch {epoch+1:2d} | Train Acc: {train_acc:.4f} | Val Acc: {val_acc:.4f} | Loss: {train_loss:.4f} | Time: {time.time()-start:.2f}s\")"
   ]
  },
  {
   "cell_type": "code",
   "execution_count": 6,
   "metadata": {},
   "outputs": [
    {
     "name": "stdout",
     "output_type": "stream",
     "text": [
      "\n",
      " Test Accuracy: 0.9867\n"
     ]
    },
    {
     "data": {
      "image/png": "[encoded data removed]",
      "text/plain": [
       "<Figure size 432x288 with 1 Axes>"
      ]
     },
     "metadata": {
      "needs_background": "light"
     },
     "output_type": "display_data"
    }
   ],
   "source": [
    "# ========== STEP 5: Evaluate ==========\n",
    "\n",
    "model.eval()\n",
    "correct, total = 0, 0\n",
    "with torch.no_grad():\n",
    "    for inputs, labels in test_loader:\n",
    "        inputs, labels = inputs.to(device), labels.to(device)\n",
    "        outputs = model(inputs)\n",
    "        _, predicted = torch.max(outputs, 1)\n",
    "        correct += (predicted == labels).sum().item()\n",
    "        total += labels.size(0)\n",
    "\n",
    "print(f\"\\n Test Accuracy: {correct / total:.4f}\")\n",
    "\n",
    "# ========== STEP 6: Plot Accuracy ==========\n",
    "\n",
    "plt.figure()\n",
    "plt.plot(train_acc_history, label='Train Accuracy')\n",
    "plt.plot(val_acc_history, label='Val Accuracy')\n",
    "plt.title('1D CNN Training & Validation Accuracy')\n",
    "plt.xlabel('Epoch')\n",
    "plt.ylabel('Accuracy')\n",
    "plt.grid(True)\n",
    "plt.legend()\n",
    "plt.show()"
   ]
  },
  {
   "cell_type": "code",
   "execution_count": 7,
   "metadata": {},
   "outputs": [
    {
     "name": "stdout",
     "output_type": "stream",
     "text": [
      "\n",
      " Test Accuracy: 0.9867\n",
      "\n",
      " Classification Report:\n",
      "                precision    recall  f1-score   support\n",
      "\n",
      "      Presence       0.98      0.98      0.98       100\n",
      "   No Presence       1.00      1.00      1.00       100\n",
      "Small Presence       0.98      0.98      0.98       100\n",
      "\n",
      "      accuracy                           0.99       300\n",
      "     macro avg       0.99      0.99      0.99       300\n",
      "  weighted avg       0.99      0.99      0.99       300\n",
      "\n"
     ]
    },
    {
     "data": {
      "image/png": "[encoded data removed]",
      "text/plain": [
       "<Figure size 432x288 with 2 Axes>"
      ]
     },
     "metadata": {
      "needs_background": "light"
     },
     "output_type": "display_data"
    }
   ],
   "source": [
    "# ========== STEP 5: Evaluate & Report ==========\n",
    "\n",
    "model.eval()\n",
    "all_preds = []\n",
    "all_labels = []\n",
    "\n",
    "with torch.no_grad():\n",
    "    for inputs, labels in test_loader:\n",
    "        inputs, labels = inputs.to(device), labels.to(device)\n",
    "        outputs = model(inputs)\n",
    "        _, predicted = torch.max(outputs, 1)\n",
    "        all_preds.extend(predicted.cpu().numpy())\n",
    "        all_labels.extend(labels.cpu().numpy())\n",
    "\n",
    "accuracy = np.mean(np.array(all_preds) == np.array(all_labels))\n",
    "print(f\"\\n Test Accuracy: {accuracy:.4f}\")\n",
    "\n",
    "# Classification report\n",
    "print(\"\\n Classification Report:\")\n",
    "print(classification_report(all_labels, all_preds, target_names=['Presence', 'No Presence', 'Small Presence']))\n",
    "\n",
    "# Confusion matrix\n",
    "cm = confusion_matrix(all_labels, all_preds)\n",
    "disp = ConfusionMatrixDisplay(confusion_matrix=cm, display_labels=['Presence', 'No Presence', 'Small Presence'])\n",
    "disp.plot(cmap=plt.cm.Blues)\n",
    "plt.title('Confusion Matrix')\n",
    "plt.grid(False)\n",
    "plt.show()"
   ]
  },
  {
   "cell_type": "code",
   "execution_count": null,
   "metadata": {},
   "outputs": [],
   "source": []
  }
 ],
 "metadata": {
  "kernelspec": {
   "display_name": "base",
   "language": "python",
   "name": "python3"
  },
  "language_info": {
   "codemirror_mode": {
    "name": "ipython",
    "version": 3
   },
   "file_extension": ".py",
   "mimetype": "text/x-python",
   "name": "python",
   "nbconvert_exporter": "python",
   "pygments_lexer": "ipython3",
   "version": "3.8.5"
  }
 },
 "nbformat": 4,
 "nbformat_minor": 2
}
